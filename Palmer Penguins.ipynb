{
 "cells": [
  {
   "cell_type": "markdown",
   "id": "de7ec7a1",
   "metadata": {},
   "source": [
    "# IMPORT"
   ]
  },
  {
   "cell_type": "code",
   "execution_count": 49,
   "id": "dacf5a0b",
   "metadata": {},
   "outputs": [],
   "source": [
    "from sklearn.model_selection import train_test_split\n",
    "from sklearn.tree import DecisionTreeClassifier\n",
    "from sklearn.metrics import classification_report, confusion_matrix\n",
    "import pandas as pd\n",
    "import numpy as np\n",
    "import matplotlib.pyplot as plt\n",
    "from palmerpenguins import load_penguins\n",
    "from sklearn.preprocessing import OneHotEncoder\n",
    "from sklearn.compose import ColumnTransformer\n",
    "from sklearn.impute import SimpleImputer"
   ]
  },
  {
   "cell_type": "markdown",
   "id": "2530283f",
   "metadata": {},
   "source": [
    "# Tải dataset Heart Disease từ UCI"
   ]
  },
  {
   "cell_type": "code",
   "execution_count": 50,
   "id": "6a625f57",
   "metadata": {},
   "outputs": [],
   "source": [
    "penguins = load_penguins()"
   ]
  },
  {
   "cell_type": "markdown",
   "id": "2e9eef3f",
   "metadata": {},
   "source": [
    "# Hàm Dataset Preprocessing"
   ]
  },
  {
   "cell_type": "code",
   "execution_count": 51,
   "id": "da5f769c",
   "metadata": {},
   "outputs": [],
   "source": [
    "#Làm sạch dữ liệu\n",
    "X = penguins.dropna().drop(columns=[\"species\"])\n",
    "y = penguins.dropna()[\"species\"]"
   ]
  },
  {
   "cell_type": "code",
   "execution_count": 52,
   "id": "7372e0b0",
   "metadata": {},
   "outputs": [],
   "source": [
    "import pandas as pd\n",
    "from sklearn.preprocessing import OneHotEncoder\n",
    "from sklearn.compose import ColumnTransformer\n",
    "from sklearn.impute import SimpleImputer\n",
    "from sklearn.model_selection import train_test_split\n",
    "\n",
    "def preprocess_data(X, y, test_size=0.2):\n",
    "    # Phát hiện các cột phân loại và số\n",
    "    categorical_columns = X.select_dtypes(include=['object', 'category']).columns.tolist()\n",
    "    numerical_columns = X.select_dtypes(include=['float64', 'int64']).columns.tolist()\n",
    "    \n",
    "    # Tạo ColumnTransformer\n",
    "    preprocessor = ColumnTransformer(\n",
    "        transformers=[\n",
    "            ('num', SimpleImputer(strategy='mean'), numerical_columns),\n",
    "            ('cat', OneHotEncoder(handle_unknown='ignore', sparse_output=False), categorical_columns)\n",
    "        ]\n",
    "    )\n",
    "    \n",
    "    # Xử lý dữ liệu\n",
    "    X_processed = preprocessor.fit_transform(X)\n",
    "    \n",
    "    # Tạo danh sách tên cột\n",
    "    feature_names = numerical_columns.copy()\n",
    "    if categorical_columns:\n",
    "        onehot_features = preprocessor.named_transformers_['cat'].get_feature_names_out(categorical_columns)\n",
    "        feature_names.extend(onehot_features)\n",
    "    \n",
    "    # Tạo DataFrame với tên cột đúng\n",
    "    X_df = pd.DataFrame(X_processed, columns=feature_names)\n",
    "    \n",
    "    # Chia dữ liệu thành train/test\n",
    "    X_train, X_test, y_train, y_test = train_test_split(\n",
    "        X_df, y, test_size=test_size, random_state=42, shuffle=True\n",
    "    )\n",
    "    \n",
    "    return X_train, X_test, y_train, y_test, X_df"
   ]
  },
  {
   "cell_type": "markdown",
   "id": "1c3bd092",
   "metadata": {},
   "source": [
    "# Chọn bài toán và thiết lập dataset cho bài toán"
   ]
  },
  {
   "cell_type": "code",
   "execution_count": 53,
   "id": "546dacd2",
   "metadata": {},
   "outputs": [
    {
     "name": "stdout",
     "output_type": "stream",
     "text": [
      "#1 train/test = 90/10\n",
      "#2 train/test = 80/20\n",
      "#3 train/test = 80/20 (with max_depth experiment)\n",
      "#4 train/test = 60/40\n",
      "#5 train/test = 40/60\n"
     ]
    },
    {
     "name": "stdin",
     "output_type": "stream",
     "text": [
      "Pick a proportion (1-5): # 5\n"
     ]
    },
    {
     "name": "stdout",
     "output_type": "stream",
     "text": [
      "-> train/test = 40/60 \n"
     ]
    }
   ],
   "source": [
    "test_size_options = [0.1, 0.2, 0.2, 0.4, 0.6]\n",
    "test_size = 0\n",
    "is_max_depth_experiment = False\n",
    "\n",
    "print(\"#1 train/test = 90/10\")\n",
    "print(\"#2 train/test = 80/20\")\n",
    "print(\"#3 train/test = 80/20 (with max_depth experiment)\")\n",
    "print(\"#4 train/test = 60/40\")\n",
    "print(\"#5 train/test = 40/60\")\n",
    "\n",
    "pick = int(input(\"Pick a proportion (1-5): #\"))\n",
    "test_size = test_size_options[pick - 1]\n",
    "\n",
    "max_depth_text, is_max_depth_experiment = (\"(with max_depth experiment)\", True) if pick == 3 else (\"\", False)\n",
    "\n",
    "print(f\"-> train/test = {100 - int(test_size*100)}/{int(test_size*100)} {max_depth_text}\")\n",
    "\n",
    "X_train, X_test, y_train, y_test, X_df = preprocess_data(X, y, test_size)"
   ]
  },
  {
   "cell_type": "markdown",
   "id": "b7a9cfda",
   "metadata": {},
   "source": [
    "# Hàm huấn luyện Decision Tree"
   ]
  },
  {
   "cell_type": "code",
   "execution_count": 54,
   "id": "5e33a9d1",
   "metadata": {},
   "outputs": [],
   "source": [
    "def train_decision_tree(max_depth):\n",
    "    clf = DecisionTreeClassifier(criterion=\"entropy\", max_depth=max_depth, random_state=42)\n",
    "    clf.fit(X_train, y_train)\n",
    "    return clf"
   ]
  },
  {
   "cell_type": "markdown",
   "id": "0f1b96b6",
   "metadata": {},
   "source": [
    "# Hàm dự đoán trên tập test"
   ]
  },
  {
   "cell_type": "code",
   "execution_count": 55,
   "id": "ac9066b8",
   "metadata": {},
   "outputs": [],
   "source": [
    "def y_predicts(clf, X_test):\n",
    "    return clf.predict(X_test)"
   ]
  },
  {
   "cell_type": "markdown",
   "id": "f51198e9",
   "metadata": {},
   "source": [
    "# Các hàm báo cáo đánh giá mô hình"
   ]
  },
  {
   "cell_type": "markdown",
   "id": "6b3951e6",
   "metadata": {},
   "source": [
    "## Hàm xuất classification report và confusion matrix"
   ]
  },
  {
   "cell_type": "code",
   "execution_count": 56,
   "id": "0b51873f",
   "metadata": {},
   "outputs": [],
   "source": [
    "import matplotlib.pyplot as plt\n",
    "from sklearn.metrics import classification_report, confusion_matrix, ConfusionMatrixDisplay\n",
    "import numpy as np\n",
    "\n",
    "# Classification report -----------------------------------------------------------------------------------------\n",
    "def print_classification_report(y_test, y_pred, target_names):\n",
    "    print(\"Classification Report:\")\n",
    "    report = classification_report(y_test, y_pred, target_names=target_names)\n",
    "    print(report)\n",
    "\n",
    "# Confusion matrix ----------------------------------------------------------------------------------------------\n",
    "def draw_confusion_matrix(y_test, y_pred, target_names, class_labels):\n",
    "    cm = confusion_matrix(y_test, y_pred, labels=class_labels)\n",
    "    disp = ConfusionMatrixDisplay(confusion_matrix=cm,\n",
    "                                  display_labels=target_names)\n",
    "    \n",
    "    fig, ax = plt.subplots(figsize=(6, 6))\n",
    "    disp.plot(ax=ax, cmap=\"Blues\", values_format='d')\n",
    "    \n",
    "    # 👉 Xoay nhãn trục y\n",
    "    plt.setp(ax.get_yticklabels(), rotation=90)\n",
    "    \n",
    "    # 👉 Tăng khoảng cách giữa nhãn \"True label\" và trục y\n",
    "    ax.set_ylabel(\"True label\", labelpad=15)\n",
    "    \n",
    "    plt.title(f\"Confusion Matrix (Depth={clf.get_depth()}, {100 - int(test_size*100)}/{int(test_size*100)} Split)\")\n",
    "    plt.grid(False)\n",
    "    plt.show()"
   ]
  },
  {
   "cell_type": "markdown",
   "id": "6f4b3bae",
   "metadata": {},
   "source": [
    "## Hàm vẽ cây"
   ]
  },
  {
   "cell_type": "code",
   "execution_count": 57,
   "id": "c318e46f",
   "metadata": {},
   "outputs": [],
   "source": [
    "from sklearn import tree\n",
    "from graphviz import Source\n",
    "from IPython.display import display\n",
    "\n",
    "def draw_decision_tree_v2(clf, feature_names=None, class_names=None):\n",
    "    dot_data = tree.export_graphviz(\n",
    "        clf,\n",
    "        out_file=None,\n",
    "        feature_names=feature_names,\n",
    "        class_names=class_names,\n",
    "        filled=True,\n",
    "        rounded=True,\n",
    "        special_characters=True\n",
    "    )\n",
    "    graph = Source(dot_data)\n",
    "    display(graph)"
   ]
  },
  {
   "cell_type": "markdown",
   "id": "633f40ef",
   "metadata": {},
   "source": [
    "## Các hàm đánh giá thí nghiệm Max Depth"
   ]
  },
  {
   "cell_type": "code",
   "execution_count": 58,
   "id": "a80ff341",
   "metadata": {},
   "outputs": [],
   "source": [
    "from IPython.display import display, Markdown\n",
    "from sklearn.metrics import accuracy_score\n",
    "import pandas as pd\n",
    "import matplotlib.pyplot as plt\n",
    "\n",
    "def accuracy_statistics(max_depth_options, accuracy_scores):\n",
    "    col_names = [\"None\" if x is None else x for x in max_depth_options]\n",
    "    \n",
    "    # Tạo DataFrame\n",
    "    df = pd.DataFrame([accuracy_scores], columns=col_names).round(4)\n",
    "    \n",
    "    # Đặt tên cho dòng và cột\n",
    "    df.index = [\"Accuracy\"]\n",
    "    df.columns.name = \"max_depth\"\n",
    "    \n",
    "    # Hiển thị\n",
    "    display(df)\n",
    "\n",
    "def accuracy_chart(max_depth_options, accuracy_scores):\n",
    "    # Map max_depth_options: None => -1 (chỉ để vẽ), giữ lại label\n",
    "    plot_x = [-1 if v is None else v for v in max_depth_options]\n",
    "    \n",
    "    plt.figure(figsize=(8, 6))\n",
    "    plt.plot(plot_x, accuracy_scores, marker='o', linestyle='-', color='b')\n",
    "    \n",
    "    # Thêm tiêu đề và nhãn\n",
    "    plt.title('Accuracy vs Max Depth', fontsize=14)\n",
    "    plt.xlabel('Max Depth', fontsize=12)\n",
    "    plt.ylabel('Accuracy', fontsize=12)\n",
    "    \n",
    "    # Gán nhãn trục x theo max_depth_options gốc\n",
    "    plt.xticks(plot_x, labels=[str(v) if v is not None else \"None\" for v in max_depth_options])\n",
    "    \n",
    "    plt.grid(True)\n",
    "    plt.show()"
   ]
  },
  {
   "cell_type": "markdown",
   "id": "de87ba3f",
   "metadata": {},
   "source": [
    "# Output"
   ]
  },
  {
   "cell_type": "code",
   "execution_count": 59,
   "id": "9968265b",
   "metadata": {},
   "outputs": [],
   "source": [
    "# Các label và tên class tương ứng\n",
    "class_labels = penguins[\"species\"].unique()\n",
    "target_names = [\"Adelie\", \"Chinstrap\", \"Gentoo\"]\n"
   ]
  },
  {
   "cell_type": "code",
   "execution_count": 60,
   "id": "bedabbd1",
   "metadata": {},
   "outputs": [
    {
     "name": "stdout",
     "output_type": "stream",
     "text": [
      "Classification Report:\n",
      "              precision    recall  f1-score   support\n",
      "\n",
      "      Adelie       0.99      0.98      0.98        92\n",
      "   Chinstrap       0.95      0.98      0.96        42\n",
      "      Gentoo       1.00      1.00      1.00        66\n",
      "\n",
      "    accuracy                           0.98       200\n",
      "   macro avg       0.98      0.98      0.98       200\n",
      "weighted avg       0.99      0.98      0.99       200\n",
      "\n"
     ]
    },
    {
     "data": {
      "text/markdown": [
       "---"
      ],
      "text/plain": [
       "<IPython.core.display.Markdown object>"
      ]
     },
     "metadata": {},
     "output_type": "display_data"
    },
    {
     "data": {
      "image/png": "[encoded data removed]",
      "text/plain": [
       "<Figure size 600x600 with 2 Axes>"
      ]
     },
     "metadata": {},
     "output_type": "display_data"
    },
    {
     "data": {
      "text/markdown": [
       "---"
      ],
      "text/plain": [
       "<IPython.core.display.Markdown object>"
      ]
     },
     "metadata": {},
     "output_type": "display_data"
    },
    {
     "data": {
      "text/markdown": [
       "## 🌲 Decision Tree:"
      ],
      "text/plain": [
       "<IPython.core.display.Markdown object>"
      ]
     },
     "metadata": {},
     "output_type": "display_data"
    },
    {
     "data": {
      "image/svg+xml": [
       "<?xml version=\"1.0\" encoding=\"UTF-8\" standalone=\"no\"?>\n",
       "<!DOCTYPE svg PUBLIC \"-//W3C//DTD SVG 1.1//EN\"\n",
       " \"http://www.w3.org/Graphics/SVG/1.1/DTD/svg11.dtd\">\n",
       "<!-- Generated by graphviz version 12.2.1 (20241206.2353)\n",
       " -->\n",
       "<!-- Title: Tree Pages: 1 -->\n",
       "<svg width=\"648pt\" height=\"570pt\"\n",
       " viewBox=\"0.00 0.00 648.38 570.00\" xmlns=\"http://www.w3.org/2000/svg\" xmlns:xlink=\"http://www.w3.org/1999/xlink\">\n",
       "<g id=\"graph0\" class=\"graph\" transform=\"scale(1 1) rotate(0) translate(4 566)\">\n",
       "<title>Tree</title>\n",
       "<polygon fill=\"white\" stroke=\"none\" points=\"-4,4 -4,-566 644.38,-566 644.38,4 -4,4\"/>\n",
       "<!-- 0 -->\n",
       "<g id=\"node1\" class=\"node\">\n",
       "<title>0</title>\n",
       "<path fill=\"#fffdfd\" stroke=\"black\" d=\"M356.88,-562C356.88,-562 203.62,-562 203.62,-562 197.62,-562 191.62,-556 191.62,-550 191.62,-550 191.62,-487.25 191.62,-487.25 191.62,-481.25 197.62,-475.25 203.62,-475.25 203.62,-475.25 356.88,-475.25 356.88,-475.25 362.88,-475.25 368.88,-481.25 368.88,-487.25 368.88,-487.25 368.88,-550 368.88,-550 368.88,-556 362.88,-562 356.88,-562\"/>\n",
       "<text text-anchor=\"start\" x=\"199.62\" y=\"-544.7\" font-family=\"Helvetica,sans-Serif\" font-size=\"14.00\">flipper_length_mm ≤ 206.5</text>\n",
       "<text text-anchor=\"start\" x=\"233\" y=\"-528.95\" font-family=\"Helvetica,sans-Serif\" font-size=\"14.00\">entropy = 1.517</text>\n",
       "<text text-anchor=\"start\" x=\"235.62\" y=\"-513.2\" font-family=\"Helvetica,sans-Serif\" font-size=\"14.00\">samples = 133</text>\n",
       "<text text-anchor=\"start\" x=\"222.5\" y=\"-497.45\" font-family=\"Helvetica,sans-Serif\" font-size=\"14.00\">value = [54, 26, 53]</text>\n",
       "<text text-anchor=\"start\" x=\"238.62\" y=\"-481.7\" font-family=\"Helvetica,sans-Serif\" font-size=\"14.00\">class = Adelie</text>\n",
       "</g>\n",
       "<!-- 1 -->\n",
       "<g id=\"node2\" class=\"node\">\n",
       "<title>1</title>\n",
       "<path fill=\"#f1bc96\" stroke=\"black\" d=\"M259.75,-439.25C259.75,-439.25 126.75,-439.25 126.75,-439.25 120.75,-439.25 114.75,-433.25 114.75,-427.25 114.75,-427.25 114.75,-364.5 114.75,-364.5 114.75,-358.5 120.75,-352.5 126.75,-352.5 126.75,-352.5 259.75,-352.5 259.75,-352.5 265.75,-352.5 271.75,-358.5 271.75,-364.5 271.75,-364.5 271.75,-427.25 271.75,-427.25 271.75,-433.25 265.75,-439.25 259.75,-439.25\"/>\n",
       "<text text-anchor=\"start\" x=\"122.75\" y=\"-421.95\" font-family=\"Helvetica,sans-Serif\" font-size=\"14.00\">bill_length_mm ≤ 42.35</text>\n",
       "<text text-anchor=\"start\" x=\"146\" y=\"-406.2\" font-family=\"Helvetica,sans-Serif\" font-size=\"14.00\">entropy = 0.988</text>\n",
       "<text text-anchor=\"start\" x=\"152.38\" y=\"-390.45\" font-family=\"Helvetica,sans-Serif\" font-size=\"14.00\">samples = 77</text>\n",
       "<text text-anchor=\"start\" x=\"139.25\" y=\"-374.7\" font-family=\"Helvetica,sans-Serif\" font-size=\"14.00\">value = [52, 24, 1]</text>\n",
       "<text text-anchor=\"start\" x=\"151.62\" y=\"-358.95\" font-family=\"Helvetica,sans-Serif\" font-size=\"14.00\">class = Adelie</text>\n",
       "</g>\n",
       "<!-- 0&#45;&gt;1 -->\n",
       "<g id=\"edge1\" class=\"edge\">\n",
       "<title>0&#45;&gt;1</title>\n",
       "<path fill=\"none\" stroke=\"black\" d=\"M249.58,-475.05C243.4,-466.49 236.85,-457.39 230.49,-448.56\"/>\n",
       "<polygon fill=\"black\" stroke=\"black\" points=\"233.51,-446.76 224.82,-440.7 227.83,-450.86 233.51,-446.76\"/>\n",
       "<text text-anchor=\"middle\" x=\"219.93\" y=\"-458.72\" font-family=\"Helvetica,sans-Serif\" font-size=\"14.00\">True</text>\n",
       "</g>\n",
       "<!-- 8 -->\n",
       "<g id=\"node9\" class=\"node\">\n",
       "<title>8</title>\n",
       "<path fill=\"#8a48e7\" stroke=\"black\" d=\"M432.25,-439.25C432.25,-439.25 302.25,-439.25 302.25,-439.25 296.25,-439.25 290.25,-433.25 290.25,-427.25 290.25,-427.25 290.25,-364.5 290.25,-364.5 290.25,-358.5 296.25,-352.5 302.25,-352.5 302.25,-352.5 432.25,-352.5 432.25,-352.5 438.25,-352.5 444.25,-358.5 444.25,-364.5 444.25,-364.5 444.25,-427.25 444.25,-427.25 444.25,-433.25 438.25,-439.25 432.25,-439.25\"/>\n",
       "<text text-anchor=\"start\" x=\"298.25\" y=\"-421.95\" font-family=\"Helvetica,sans-Serif\" font-size=\"14.00\">bill_depth_mm ≤ 17.55</text>\n",
       "<text text-anchor=\"start\" x=\"320\" y=\"-406.2\" font-family=\"Helvetica,sans-Serif\" font-size=\"14.00\">entropy = 0.443</text>\n",
       "<text text-anchor=\"start\" x=\"326.38\" y=\"-390.45\" font-family=\"Helvetica,sans-Serif\" font-size=\"14.00\">samples = 56</text>\n",
       "<text text-anchor=\"start\" x=\"317\" y=\"-374.7\" font-family=\"Helvetica,sans-Serif\" font-size=\"14.00\">value = [2, 2, 52]</text>\n",
       "<text text-anchor=\"start\" x=\"321.5\" y=\"-358.95\" font-family=\"Helvetica,sans-Serif\" font-size=\"14.00\">class = Gentoo</text>\n",
       "</g>\n",
       "<!-- 0&#45;&gt;8 -->\n",
       "<g id=\"edge8\" class=\"edge\">\n",
       "<title>0&#45;&gt;8</title>\n",
       "<path fill=\"none\" stroke=\"black\" d=\"M310.92,-475.05C317.1,-466.49 323.65,-457.39 330.01,-448.56\"/>\n",
       "<polygon fill=\"black\" stroke=\"black\" points=\"332.67,-450.86 335.68,-440.7 326.99,-446.76 332.67,-450.86\"/>\n",
       "<text text-anchor=\"middle\" x=\"340.57\" y=\"-458.72\" font-family=\"Helvetica,sans-Serif\" font-size=\"14.00\">False</text>\n",
       "</g>\n",
       "<!-- 2 -->\n",
       "<g id=\"node3\" class=\"node\">\n",
       "<title>2</title>\n",
       "<path fill=\"#e58139\" stroke=\"black\" d=\"M104.5,-308.62C104.5,-308.62 12,-308.62 12,-308.62 6,-308.62 0,-302.62 0,-296.62 0,-296.62 0,-249.62 0,-249.62 0,-243.62 6,-237.62 12,-237.62 12,-237.62 104.5,-237.62 104.5,-237.62 110.5,-237.62 116.5,-243.62 116.5,-249.62 116.5,-249.62 116.5,-296.62 116.5,-296.62 116.5,-302.62 110.5,-308.62 104.5,-308.62\"/>\n",
       "<text text-anchor=\"start\" x=\"18.5\" y=\"-291.32\" font-family=\"Helvetica,sans-Serif\" font-size=\"14.00\">entropy = 0.0</text>\n",
       "<text text-anchor=\"start\" x=\"17.38\" y=\"-275.57\" font-family=\"Helvetica,sans-Serif\" font-size=\"14.00\">samples = 49</text>\n",
       "<text text-anchor=\"start\" x=\"8\" y=\"-259.82\" font-family=\"Helvetica,sans-Serif\" font-size=\"14.00\">value = [49, 0, 0]</text>\n",
       "<text text-anchor=\"start\" x=\"16.62\" y=\"-244.07\" font-family=\"Helvetica,sans-Serif\" font-size=\"14.00\">class = Adelie</text>\n",
       "</g>\n",
       "<!-- 1&#45;&gt;2 -->\n",
       "<g id=\"edge2\" class=\"edge\">\n",
       "<title>1&#45;&gt;2</title>\n",
       "<path fill=\"none\" stroke=\"black\" d=\"M145.65,-352.3C132.58,-340.61 118.41,-327.93 105.36,-316.26\"/>\n",
       "<polygon fill=\"black\" stroke=\"black\" points=\"107.88,-313.82 98.09,-309.76 103.21,-319.04 107.88,-313.82\"/>\n",
       "</g>\n",
       "<!-- 3 -->\n",
       "<g id=\"node4\" class=\"node\">\n",
       "<title>3</title>\n",
       "<path fill=\"#59e995\" stroke=\"black\" d=\"M256.12,-316.5C256.12,-316.5 146.38,-316.5 146.38,-316.5 140.38,-316.5 134.38,-310.5 134.38,-304.5 134.38,-304.5 134.38,-241.75 134.38,-241.75 134.38,-235.75 140.38,-229.75 146.38,-229.75 146.38,-229.75 256.12,-229.75 256.12,-229.75 262.12,-229.75 268.12,-235.75 268.12,-241.75 268.12,-241.75 268.12,-304.5 268.12,-304.5 268.12,-310.5 262.12,-316.5 256.12,-316.5\"/>\n",
       "<text text-anchor=\"start\" x=\"142.38\" y=\"-299.2\" font-family=\"Helvetica,sans-Serif\" font-size=\"14.00\">island_Dream ≤ 0.5</text>\n",
       "<text text-anchor=\"start\" x=\"154\" y=\"-283.45\" font-family=\"Helvetica,sans-Serif\" font-size=\"14.00\">entropy = 0.708</text>\n",
       "<text text-anchor=\"start\" x=\"160.38\" y=\"-267.7\" font-family=\"Helvetica,sans-Serif\" font-size=\"14.00\">samples = 28</text>\n",
       "<text text-anchor=\"start\" x=\"151\" y=\"-251.95\" font-family=\"Helvetica,sans-Serif\" font-size=\"14.00\">value = [3, 24, 1]</text>\n",
       "<text text-anchor=\"start\" x=\"149.12\" y=\"-236.2\" font-family=\"Helvetica,sans-Serif\" font-size=\"14.00\">class = Chinstrap</text>\n",
       "</g>\n",
       "<!-- 1&#45;&gt;3 -->\n",
       "<g id=\"edge3\" class=\"edge\">\n",
       "<title>1&#45;&gt;3</title>\n",
       "<path fill=\"none\" stroke=\"black\" d=\"M196.07,-352.3C196.59,-344.46 197.14,-336.17 197.68,-328.04\"/>\n",
       "<polygon fill=\"black\" stroke=\"black\" points=\"201.16,-328.44 198.33,-318.23 194.17,-327.98 201.16,-328.44\"/>\n",
       "</g>\n",
       "<!-- 4 -->\n",
       "<g id=\"node5\" class=\"node\">\n",
       "<title>4</title>\n",
       "<path fill=\"#eeab7b\" stroke=\"black\" d=\"M207.88,-193.75C207.88,-193.75 54.62,-193.75 54.62,-193.75 48.62,-193.75 42.62,-187.75 42.62,-181.75 42.62,-181.75 42.62,-119 42.62,-119 42.62,-113 48.62,-107 54.62,-107 54.62,-107 207.88,-107 207.88,-107 213.88,-107 219.88,-113 219.88,-119 219.88,-119 219.88,-181.75 219.88,-181.75 219.88,-187.75 213.88,-193.75 207.88,-193.75\"/>\n",
       "<text text-anchor=\"start\" x=\"50.62\" y=\"-176.45\" font-family=\"Helvetica,sans-Serif\" font-size=\"14.00\">flipper_length_mm ≤ 200.0</text>\n",
       "<text text-anchor=\"start\" x=\"84.38\" y=\"-160.7\" font-family=\"Helvetica,sans-Serif\" font-size=\"14.00\">entropy = 0.811</text>\n",
       "<text text-anchor=\"start\" x=\"94.12\" y=\"-144.95\" font-family=\"Helvetica,sans-Serif\" font-size=\"14.00\">samples = 4</text>\n",
       "<text text-anchor=\"start\" x=\"84.75\" y=\"-129.2\" font-family=\"Helvetica,sans-Serif\" font-size=\"14.00\">value = [3, 0, 1]</text>\n",
       "<text text-anchor=\"start\" x=\"89.62\" y=\"-113.45\" font-family=\"Helvetica,sans-Serif\" font-size=\"14.00\">class = Adelie</text>\n",
       "</g>\n",
       "<!-- 3&#45;&gt;4 -->\n",
       "<g id=\"edge4\" class=\"edge\">\n",
       "<title>3&#45;&gt;4</title>\n",
       "<path fill=\"none\" stroke=\"black\" d=\"M176.57,-229.55C171.76,-221.26 166.67,-212.47 161.7,-203.89\"/>\n",
       "<polygon fill=\"black\" stroke=\"black\" points=\"164.74,-202.17 156.7,-195.28 158.69,-205.69 164.74,-202.17\"/>\n",
       "</g>\n",
       "<!-- 7 -->\n",
       "<g id=\"node8\" class=\"node\">\n",
       "<title>7</title>\n",
       "<path fill=\"#39e581\" stroke=\"black\" d=\"M346.38,-185.88C346.38,-185.88 250.12,-185.88 250.12,-185.88 244.12,-185.88 238.12,-179.88 238.12,-173.88 238.12,-173.88 238.12,-126.88 238.12,-126.88 238.12,-120.88 244.12,-114.88 250.12,-114.88 250.12,-114.88 346.38,-114.88 346.38,-114.88 352.38,-114.88 358.38,-120.88 358.38,-126.88 358.38,-126.88 358.38,-173.88 358.38,-173.88 358.38,-179.88 352.38,-185.88 346.38,-185.88\"/>\n",
       "<text text-anchor=\"start\" x=\"258.5\" y=\"-168.57\" font-family=\"Helvetica,sans-Serif\" font-size=\"14.00\">entropy = 0.0</text>\n",
       "<text text-anchor=\"start\" x=\"257.38\" y=\"-152.82\" font-family=\"Helvetica,sans-Serif\" font-size=\"14.00\">samples = 24</text>\n",
       "<text text-anchor=\"start\" x=\"248\" y=\"-137.07\" font-family=\"Helvetica,sans-Serif\" font-size=\"14.00\">value = [0, 24, 0]</text>\n",
       "<text text-anchor=\"start\" x=\"246.12\" y=\"-121.33\" font-family=\"Helvetica,sans-Serif\" font-size=\"14.00\">class = Chinstrap</text>\n",
       "</g>\n",
       "<!-- 3&#45;&gt;7 -->\n",
       "<g id=\"edge7\" class=\"edge\">\n",
       "<title>3&#45;&gt;7</title>\n",
       "<path fill=\"none\" stroke=\"black\" d=\"M235.45,-229.55C244.49,-218.3 254.25,-206.14 263.33,-194.85\"/>\n",
       "<polygon fill=\"black\" stroke=\"black\" points=\"265.95,-197.17 269.48,-187.18 260.49,-192.79 265.95,-197.17\"/>\n",
       "</g>\n",
       "<!-- 5 -->\n",
       "<g id=\"node6\" class=\"node\">\n",
       "<title>5</title>\n",
       "<path fill=\"#e58139\" stroke=\"black\" d=\"M110.75,-71C110.75,-71 25.75,-71 25.75,-71 19.75,-71 13.75,-65 13.75,-59 13.75,-59 13.75,-12 13.75,-12 13.75,-6 19.75,0 25.75,0 25.75,0 110.75,0 110.75,0 116.75,0 122.75,-6 122.75,-12 122.75,-12 122.75,-59 122.75,-59 122.75,-65 116.75,-71 110.75,-71\"/>\n",
       "<text text-anchor=\"start\" x=\"28.5\" y=\"-53.7\" font-family=\"Helvetica,sans-Serif\" font-size=\"14.00\">entropy = 0.0</text>\n",
       "<text text-anchor=\"start\" x=\"31.12\" y=\"-37.95\" font-family=\"Helvetica,sans-Serif\" font-size=\"14.00\">samples = 3</text>\n",
       "<text text-anchor=\"start\" x=\"21.75\" y=\"-22.2\" font-family=\"Helvetica,sans-Serif\" font-size=\"14.00\">value = [3, 0, 0]</text>\n",
       "<text text-anchor=\"start\" x=\"26.62\" y=\"-6.45\" font-family=\"Helvetica,sans-Serif\" font-size=\"14.00\">class = Adelie</text>\n",
       "</g>\n",
       "<!-- 4&#45;&gt;5 -->\n",
       "<g id=\"edge5\" class=\"edge\">\n",
       "<title>4&#45;&gt;5</title>\n",
       "<path fill=\"none\" stroke=\"black\" d=\"M107.43,-106.7C102.78,-98.36 97.88,-89.59 93.19,-81.18\"/>\n",
       "<polygon fill=\"black\" stroke=\"black\" points=\"96.26,-79.51 88.33,-72.48 90.15,-82.92 96.26,-79.51\"/>\n",
       "</g>\n",
       "<!-- 6 -->\n",
       "<g id=\"node7\" class=\"node\">\n",
       "<title>6</title>\n",
       "<path fill=\"#8139e5\" stroke=\"black\" d=\"M237.75,-71C237.75,-71 152.75,-71 152.75,-71 146.75,-71 140.75,-65 140.75,-59 140.75,-59 140.75,-12 140.75,-12 140.75,-6 146.75,0 152.75,0 152.75,0 237.75,0 237.75,0 243.75,0 249.75,-6 249.75,-12 249.75,-12 249.75,-59 249.75,-59 249.75,-65 243.75,-71 237.75,-71\"/>\n",
       "<text text-anchor=\"start\" x=\"155.5\" y=\"-53.7\" font-family=\"Helvetica,sans-Serif\" font-size=\"14.00\">entropy = 0.0</text>\n",
       "<text text-anchor=\"start\" x=\"158.12\" y=\"-37.95\" font-family=\"Helvetica,sans-Serif\" font-size=\"14.00\">samples = 1</text>\n",
       "<text text-anchor=\"start\" x=\"148.75\" y=\"-22.2\" font-family=\"Helvetica,sans-Serif\" font-size=\"14.00\">value = [0, 0, 1]</text>\n",
       "<text text-anchor=\"start\" x=\"149.5\" y=\"-6.45\" font-family=\"Helvetica,sans-Serif\" font-size=\"14.00\">class = Gentoo</text>\n",
       "</g>\n",
       "<!-- 4&#45;&gt;6 -->\n",
       "<g id=\"edge6\" class=\"edge\">\n",
       "<title>4&#45;&gt;6</title>\n",
       "<path fill=\"none\" stroke=\"black\" d=\"M155.45,-106.7C160.23,-98.27 165.26,-89.39 170.07,-80.9\"/>\n",
       "<polygon fill=\"black\" stroke=\"black\" points=\"172.97,-82.9 174.85,-72.47 166.88,-79.45 172.97,-82.9\"/>\n",
       "</g>\n",
       "<!-- 9 -->\n",
       "<g id=\"node10\" class=\"node\">\n",
       "<title>9</title>\n",
       "<path fill=\"#8139e5\" stroke=\"black\" d=\"M405.5,-308.62C405.5,-308.62 313,-308.62 313,-308.62 307,-308.62 301,-302.62 301,-296.62 301,-296.62 301,-249.62 301,-249.62 301,-243.62 307,-237.62 313,-237.62 313,-237.62 405.5,-237.62 405.5,-237.62 411.5,-237.62 417.5,-243.62 417.5,-249.62 417.5,-249.62 417.5,-296.62 417.5,-296.62 417.5,-302.62 411.5,-308.62 405.5,-308.62\"/>\n",
       "<text text-anchor=\"start\" x=\"319.5\" y=\"-291.32\" font-family=\"Helvetica,sans-Serif\" font-size=\"14.00\">entropy = 0.0</text>\n",
       "<text text-anchor=\"start\" x=\"318.38\" y=\"-275.57\" font-family=\"Helvetica,sans-Serif\" font-size=\"14.00\">samples = 52</text>\n",
       "<text text-anchor=\"start\" x=\"309\" y=\"-259.82\" font-family=\"Helvetica,sans-Serif\" font-size=\"14.00\">value = [0, 0, 52]</text>\n",
       "<text text-anchor=\"start\" x=\"313.5\" y=\"-244.07\" font-family=\"Helvetica,sans-Serif\" font-size=\"14.00\">class = Gentoo</text>\n",
       "</g>\n",
       "<!-- 8&#45;&gt;9 -->\n",
       "<g id=\"edge9\" class=\"edge\">\n",
       "<title>8&#45;&gt;9</title>\n",
       "<path fill=\"none\" stroke=\"black\" d=\"M364.43,-352.3C363.74,-341.83 362.99,-330.58 362.29,-319.96\"/>\n",
       "<polygon fill=\"black\" stroke=\"black\" points=\"365.8,-320.01 361.64,-310.26 358.81,-320.47 365.8,-320.01\"/>\n",
       "</g>\n",
       "<!-- 10 -->\n",
       "<g id=\"node11\" class=\"node\">\n",
       "<title>10</title>\n",
       "<path fill=\"#ffffff\" stroke=\"black\" d=\"M580.75,-316.5C580.75,-316.5 447.75,-316.5 447.75,-316.5 441.75,-316.5 435.75,-310.5 435.75,-304.5 435.75,-304.5 435.75,-241.75 435.75,-241.75 435.75,-235.75 441.75,-229.75 447.75,-229.75 447.75,-229.75 580.75,-229.75 580.75,-229.75 586.75,-229.75 592.75,-235.75 592.75,-241.75 592.75,-241.75 592.75,-304.5 592.75,-304.5 592.75,-310.5 586.75,-316.5 580.75,-316.5\"/>\n",
       "<text text-anchor=\"start\" x=\"443.75\" y=\"-299.2\" font-family=\"Helvetica,sans-Serif\" font-size=\"14.00\">bill_length_mm ≤ 46.55</text>\n",
       "<text text-anchor=\"start\" x=\"474.5\" y=\"-283.45\" font-family=\"Helvetica,sans-Serif\" font-size=\"14.00\">entropy = 1.0</text>\n",
       "<text text-anchor=\"start\" x=\"477.12\" y=\"-267.7\" font-family=\"Helvetica,sans-Serif\" font-size=\"14.00\">samples = 4</text>\n",
       "<text text-anchor=\"start\" x=\"467.75\" y=\"-251.95\" font-family=\"Helvetica,sans-Serif\" font-size=\"14.00\">value = [2, 2, 0]</text>\n",
       "<text text-anchor=\"start\" x=\"472.62\" y=\"-236.2\" font-family=\"Helvetica,sans-Serif\" font-size=\"14.00\">class = Adelie</text>\n",
       "</g>\n",
       "<!-- 8&#45;&gt;10 -->\n",
       "<g id=\"edge10\" class=\"edge\">\n",
       "<title>8&#45;&gt;10</title>\n",
       "<path fill=\"none\" stroke=\"black\" d=\"M419.08,-352.3C430.27,-343.1 442.21,-333.3 453.71,-323.86\"/>\n",
       "<polygon fill=\"black\" stroke=\"black\" points=\"455.72,-326.73 461.23,-317.68 451.28,-321.32 455.72,-326.73\"/>\n",
       "</g>\n",
       "<!-- 11 -->\n",
       "<g id=\"node12\" class=\"node\">\n",
       "<title>11</title>\n",
       "<path fill=\"#e58139\" stroke=\"black\" d=\"M489.75,-185.88C489.75,-185.88 404.75,-185.88 404.75,-185.88 398.75,-185.88 392.75,-179.88 392.75,-173.88 392.75,-173.88 392.75,-126.88 392.75,-126.88 392.75,-120.88 398.75,-114.88 404.75,-114.88 404.75,-114.88 489.75,-114.88 489.75,-114.88 495.75,-114.88 501.75,-120.88 501.75,-126.88 501.75,-126.88 501.75,-173.88 501.75,-173.88 501.75,-179.88 495.75,-185.88 489.75,-185.88\"/>\n",
       "<text text-anchor=\"start\" x=\"407.5\" y=\"-168.57\" font-family=\"Helvetica,sans-Serif\" font-size=\"14.00\">entropy = 0.0</text>\n",
       "<text text-anchor=\"start\" x=\"410.12\" y=\"-152.82\" font-family=\"Helvetica,sans-Serif\" font-size=\"14.00\">samples = 2</text>\n",
       "<text text-anchor=\"start\" x=\"400.75\" y=\"-137.07\" font-family=\"Helvetica,sans-Serif\" font-size=\"14.00\">value = [2, 0, 0]</text>\n",
       "<text text-anchor=\"start\" x=\"405.62\" y=\"-121.33\" font-family=\"Helvetica,sans-Serif\" font-size=\"14.00\">class = Adelie</text>\n",
       "</g>\n",
       "<!-- 10&#45;&gt;11 -->\n",
       "<g id=\"edge11\" class=\"edge\">\n",
       "<title>10&#45;&gt;11</title>\n",
       "<path fill=\"none\" stroke=\"black\" d=\"M490.63,-229.55C484.57,-218.64 478.04,-206.87 471.93,-195.86\"/>\n",
       "<polygon fill=\"black\" stroke=\"black\" points=\"475.11,-194.37 467.2,-187.33 468.99,-197.77 475.11,-194.37\"/>\n",
       "</g>\n",
       "<!-- 12 -->\n",
       "<g id=\"node13\" class=\"node\">\n",
       "<title>12</title>\n",
       "<path fill=\"#39e581\" stroke=\"black\" d=\"M628.38,-185.88C628.38,-185.88 532.12,-185.88 532.12,-185.88 526.12,-185.88 520.12,-179.88 520.12,-173.88 520.12,-173.88 520.12,-126.88 520.12,-126.88 520.12,-120.88 526.12,-114.88 532.12,-114.88 532.12,-114.88 628.38,-114.88 628.38,-114.88 634.38,-114.88 640.38,-120.88 640.38,-126.88 640.38,-126.88 640.38,-173.88 640.38,-173.88 640.38,-179.88 634.38,-185.88 628.38,-185.88\"/>\n",
       "<text text-anchor=\"start\" x=\"540.5\" y=\"-168.57\" font-family=\"Helvetica,sans-Serif\" font-size=\"14.00\">entropy = 0.0</text>\n",
       "<text text-anchor=\"start\" x=\"543.12\" y=\"-152.82\" font-family=\"Helvetica,sans-Serif\" font-size=\"14.00\">samples = 2</text>\n",
       "<text text-anchor=\"start\" x=\"533.75\" y=\"-137.07\" font-family=\"Helvetica,sans-Serif\" font-size=\"14.00\">value = [0, 2, 0]</text>\n",
       "<text text-anchor=\"start\" x=\"528.12\" y=\"-121.33\" font-family=\"Helvetica,sans-Serif\" font-size=\"14.00\">class = Chinstrap</text>\n",
       "</g>\n",
       "<!-- 10&#45;&gt;12 -->\n",
       "<g id=\"edge12\" class=\"edge\">\n",
       "<title>10&#45;&gt;12</title>\n",
       "<path fill=\"none\" stroke=\"black\" d=\"M537.52,-229.55C543.49,-218.64 549.92,-206.87 555.94,-195.86\"/>\n",
       "<polygon fill=\"black\" stroke=\"black\" points=\"558.87,-197.79 560.6,-187.33 552.73,-194.43 558.87,-197.79\"/>\n",
       "</g>\n",
       "</g>\n",
       "</svg>\n"
      ],
      "text/plain": [
       "<graphviz.sources.Source at 0x1ef71873a80>"
      ]
     },
     "metadata": {},
     "output_type": "display_data"
    }
   ],
   "source": [
    "if is_max_depth_experiment:\n",
    "    max_depth_options = [None, 2, 3, 4, 5, 6, 7]\n",
    "    clf_containers = []\n",
    "    accuracy_scores = []\n",
    "    \n",
    "    for max_depth in max_depth_options:\n",
    "        clf = train_decision_tree(max_depth)\n",
    "        clf_containers.append(clf)\n",
    "        accuracy_scores.append(accuracy_score(y_test, y_predicts(clf, X_test)))\n",
    "    accuracy_statistics(max_depth_options, accuracy_scores)\n",
    "    accuracy_chart(max_depth_options, accuracy_scores)   \n",
    "else:\n",
    "    max_depth = None\n",
    "    \n",
    "    clf = train_decision_tree(max_depth)\n",
    "    y_pred = y_predicts(clf, X_test)\n",
    "    \n",
    "    print_classification_report(y_test, y_pred, target_names)\n",
    "    display(Markdown(\"---\"))\n",
    "    \n",
    "    draw_confusion_matrix(y_test, y_pred, target_names, class_labels)   \n",
    "    display(Markdown(\"---\"))\n",
    "    display(Markdown(f\"## 🌲 Decision Tree:\"))\n",
    "    draw_decision_tree_v2(clf, feature_names=X_df.columns, class_names=target_names)\n"
   ]
  }
 ],
 "metadata": {
  "kernelspec": {
   "display_name": "Python 3 (ipykernel)",
   "language": "python",
   "name": "python3"
  },
  "language_info": {
   "codemirror_mode": {
    "name": "ipython",
    "version": 3
   },
   "file_extension": ".py",
   "mimetype": "text/x-python",
   "name": "python",
   "nbconvert_exporter": "python",
   "pygments_lexer": "ipython3",
   "version": "3.13.2"
  }
 },
 "nbformat": 4,
 "nbformat_minor": 5
}
