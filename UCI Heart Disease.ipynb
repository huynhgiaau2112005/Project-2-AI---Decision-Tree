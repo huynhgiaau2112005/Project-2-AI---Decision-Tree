{
 "cells": [
  {
   "cell_type": "markdown",
   "id": "e20c7936-1426-4dc0-8cce-13105755d304",
   "metadata": {},
   "source": [
    "# IMPORT"
   ]
  },
  {
   "cell_type": "code",
   "execution_count": 109,
   "id": "d37c891a-8cb0-446a-b3a2-20a6bc93528e",
   "metadata": {},
   "outputs": [],
   "source": [
    "from ucimlrepo import fetch_ucirepo\n",
    "from sklearn.model_selection import train_test_split\n",
    "from sklearn.tree import DecisionTreeClassifier, export_graphviz\n",
    "from sklearn.metrics import classification_report, confusion_matrix\n",
    "import graphviz"
   ]
  },
  {
   "cell_type": "markdown",
   "id": "44898a11-99fc-4f66-98ee-ad1727db23dd",
   "metadata": {},
   "source": [
    "# Tải dataset Heart Disease từ UCI"
   ]
  },
  {
   "cell_type": "code",
   "execution_count": 110,
   "id": "13537b61-b133-4c51-bfda-cc3835d281d1",
   "metadata": {},
   "outputs": [],
   "source": [
    "heart_disease = fetch_ucirepo(id=45)"
   ]
  },
  {
   "cell_type": "markdown",
   "id": "2e005ae9-78be-4b30-9d5b-670107291893",
   "metadata": {},
   "source": [
    "# Hàm Dataset Preprocessing"
   ]
  },
  {
   "cell_type": "code",
   "execution_count": 111,
   "id": "6cd629c7-90ba-41fd-85a6-346f66a83251",
   "metadata": {},
   "outputs": [],
   "source": [
    "X = heart_disease.data.features\n",
    "y = heart_disease.data.targets\n",
    "y = np.where(y == 0, 0, 1) # phần này của Âu cần, ae có thể bỏ đi ở phần ae"
   ]
  },
  {
   "cell_type": "code",
   "execution_count": 112,
   "id": "97e83067-91ac-4191-90c0-994c3bc3a788",
   "metadata": {},
   "outputs": [],
   "source": [
    "import pandas as pd\n",
    "from sklearn.preprocessing import OneHotEncoder\n",
    "from sklearn.compose import ColumnTransformer\n",
    "from sklearn.impute import SimpleImputer\n",
    "from sklearn.model_selection import train_test_split\n",
    "\n",
    "def preprocess_data(X, y, test_size=0.2):\n",
    "    # Phát hiện các cột phân loại và số\n",
    "    categorical_columns = X.select_dtypes(include=['object', 'category']).columns.tolist()\n",
    "    numerical_columns = X.select_dtypes(include=['float64', 'int64']).columns.tolist()\n",
    "    \n",
    "    # Tạo ColumnTransformer\n",
    "    preprocessor = ColumnTransformer(\n",
    "        transformers=[\n",
    "            ('num', SimpleImputer(strategy='mean'), numerical_columns),\n",
    "            ('cat', OneHotEncoder(handle_unknown='ignore', sparse_output=False), categorical_columns)\n",
    "        ]\n",
    "    )\n",
    "    \n",
    "    # Xử lý dữ liệu\n",
    "    X_processed = preprocessor.fit_transform(X)\n",
    "    \n",
    "    # Tạo danh sách tên cột\n",
    "    feature_names = numerical_columns.copy()\n",
    "    if categorical_columns:\n",
    "        onehot_features = preprocessor.named_transformers_['cat'].get_feature_names_out(categorical_columns)\n",
    "        feature_names.extend(onehot_features)\n",
    "    \n",
    "    # Tạo DataFrame với tên cột đúng\n",
    "    X_df = pd.DataFrame(X_processed, columns=feature_names)\n",
    "    \n",
    "    # Chia dữ liệu thành train/test\n",
    "    X_train, X_test, y_train, y_test = train_test_split(\n",
    "        X_df, y, test_size=test_size, random_state=42, shuffle=True\n",
    "    )\n",
    "    \n",
    "    return X_train, X_test, y_train, y_test"
   ]
  },
  {
   "cell_type": "markdown",
   "id": "060c0af0-855e-43de-b96e-792c89858bd1",
   "metadata": {},
   "source": [
    "# Chọn bài toán và thiết lập dataset cho bài toán"
   ]
  },
  {
   "cell_type": "code",
   "execution_count": 113,
   "id": "74042fd2-196f-447f-9e69-ed4f90faa2c0",
   "metadata": {},
   "outputs": [
    {
     "name": "stdout",
     "output_type": "stream",
     "text": [
      "#1 train/test = 90/10\n",
      "#2 train/test = 80/20\n",
      "#3 train/test = 80/20 (with max_depth experiment)\n",
      "#4 train/test = 60/40\n",
      "#5 train/test = 40/60\n"
     ]
    },
    {
     "name": "stdin",
     "output_type": "stream",
     "text": [
      "Pick a proportion (1-5): # 3\n"
     ]
    },
    {
     "name": "stdout",
     "output_type": "stream",
     "text": [
      "-> train/test = 80/20 (with max_depth experiment)\n"
     ]
    }
   ],
   "source": [
    "test_size_options = [0.1, 0.2, 0.2, 0.4, 0.6]\n",
    "test_size = 0\n",
    "is_max_depth_experiment = False\n",
    "\n",
    "print(\"#1 train/test = 90/10\")\n",
    "print(\"#2 train/test = 80/20\")\n",
    "print(\"#3 train/test = 80/20 (with max_depth experiment)\")\n",
    "print(\"#4 train/test = 60/40\")\n",
    "print(\"#5 train/test = 40/60\")\n",
    "\n",
    "pick = int(input(\"Pick a proportion (1-5): #\"))\n",
    "test_size = test_size_options[pick - 1]\n",
    "\n",
    "max_depth_text, is_max_depth_experiment = (\"(with max_depth experiment)\", True) if pick == 3 else (\"\", False)\n",
    "\n",
    "print(f\"-> train/test = {100 - int(test_size*100)}/{int(test_size*100)} {max_depth_text}\")\n",
    "\n",
    "X_train, X_test, y_train, y_test = preprocess_data(X, y, test_size)"
   ]
  },
  {
   "cell_type": "markdown",
   "id": "37a32272-1672-40af-babb-e98d19581659",
   "metadata": {},
   "source": [
    "# Hàm huấn luyện Decision Tree"
   ]
  },
  {
   "cell_type": "code",
   "execution_count": 114,
   "id": "94255fe8-b286-4d32-8489-8f3f0bca96f0",
   "metadata": {},
   "outputs": [],
   "source": [
    "def train_decision_tree(max_depth):\n",
    "    clf = DecisionTreeClassifier(criterion=\"entropy\", max_depth=max_depth, random_state=42)\n",
    "    clf.fit(X_train, y_train)\n",
    "    return clf"
   ]
  },
  {
   "cell_type": "markdown",
   "id": "6501a937-e658-471c-8dc3-f2a0dcc606e0",
   "metadata": {},
   "source": [
    "# Hàm dự đoán trên tập test"
   ]
  },
  {
   "cell_type": "code",
   "execution_count": 115,
   "id": "ab9af5c3-8eb7-453a-af3f-bdc749c87bb0",
   "metadata": {},
   "outputs": [],
   "source": [
    "def y_predicts(clf, X_test):\n",
    "    return clf.predict(X_test)"
   ]
  },
  {
   "cell_type": "markdown",
   "id": "e90ee8ca-677d-40a6-b2dd-bf301166d627",
   "metadata": {},
   "source": [
    "# Các hàm báo cáo đánh giá mô hình"
   ]
  },
  {
   "cell_type": "markdown",
   "id": "da17f73b-3787-40dc-92a4-50fa073bc70b",
   "metadata": {},
   "source": [
    "## Hàm xuất classification report và confusion matrix"
   ]
  },
  {
   "cell_type": "code",
   "execution_count": 116,
   "id": "42d3e4a1-6f97-45f8-9048-537de4cc23dc",
   "metadata": {},
   "outputs": [],
   "source": [
    "import matplotlib.pyplot as plt\n",
    "from sklearn.metrics import classification_report, confusion_matrix, ConfusionMatrixDisplay\n",
    "import numpy as np\n",
    "\n",
    "# Classification report -----------------------------------------------------------------------------------------\n",
    "def print_classification_report(y_test, y_pred, target_names):\n",
    "    print(\"Classification Report:\")\n",
    "    report = classification_report(y_test, y_pred, target_names=target_names)\n",
    "    print(report)\n",
    "\n",
    "# Confusion matrix ----------------------------------------------------------------------------------------------\n",
    "def draw_confusion_matrix(y_test, y_pred, target_names, class_labels):\n",
    "    cm = confusion_matrix(y_test, y_pred, labels=class_labels)\n",
    "    disp = ConfusionMatrixDisplay(confusion_matrix=cm,\n",
    "                                  display_labels=target_names)\n",
    "    \n",
    "    fig, ax = plt.subplots(figsize=(6, 6))\n",
    "    disp.plot(ax=ax, cmap=\"Blues\", values_format='d')\n",
    "    \n",
    "    # 👉 Xoay nhãn trục y\n",
    "    plt.setp(ax.get_yticklabels(), rotation=90)\n",
    "    \n",
    "    # 👉 Tăng khoảng cách giữa nhãn \"True label\" và trục y\n",
    "    ax.set_ylabel(\"True label\", labelpad=15)\n",
    "    \n",
    "    plt.title(f\"Confusion Matrix (Depth={clf.get_depth()}, {100 - int(test_size*100)}/{int(test_size*100)} Split)\")\n",
    "    plt.grid(False)\n",
    "    plt.show()"
   ]
  },
  {
   "cell_type": "markdown",
   "id": "390e10de-1545-41a2-9e4e-3dc6198b283d",
   "metadata": {},
   "source": [
    "## Hàm vẽ cây"
   ]
  },
  {
   "cell_type": "code",
   "execution_count": 117,
   "id": "8d78ceb9-b37f-40d5-afaf-38429aebbe78",
   "metadata": {
    "scrolled": true
   },
   "outputs": [],
   "source": [
    "from sklearn.tree import export_graphviz\n",
    "import pydotplus\n",
    "from IPython.display import Image\n",
    "\n",
    "# Xuất cây quyết định thành dữ liệu .dot\n",
    "def draw_decision_tree(clf):\n",
    "    dot_data = export_graphviz(\n",
    "        clf,\n",
    "        out_file=None,\n",
    "        feature_names=X.columns,\n",
    "        class_names=[str(c) for c in clf.classes_],\n",
    "        filled=True,\n",
    "        rounded=True,\n",
    "        special_characters=True\n",
    "    )\n",
    "    \n",
    "    # Tạo đồ thị từ dữ liệu .dot\n",
    "    graph = pydotplus.graph_from_dot_data(dot_data)\n",
    "    \n",
    "    # Hiển thị cây dưới dạng hình PNG\n",
    "    display(Image(graph.create_png()))"
   ]
  },
  {
   "cell_type": "markdown",
   "id": "afa14fd4-bc5a-46cc-a0eb-faa5e2fccdec",
   "metadata": {},
   "source": [
    "## Các hàm đánh giá thí nghiệm Max Depth"
   ]
  },
  {
   "cell_type": "code",
   "execution_count": 118,
   "id": "701df74f-f611-4b0b-b570-4a2f8b8e71da",
   "metadata": {},
   "outputs": [],
   "source": [
    "from IPython.display import display, Markdown\n",
    "from sklearn.metrics import accuracy_score\n",
    "import pandas as pd\n",
    "import matplotlib.pyplot as plt\n",
    "\n",
    "def accuracy_statistics(max_depth_options, accuracy_scores):\n",
    "    col_names = [\"None\" if x is None else x for x in max_depth_options]\n",
    "    \n",
    "    # Tạo DataFrame\n",
    "    df = pd.DataFrame([accuracy_scores], columns=col_names).round(4)\n",
    "    \n",
    "    # Đặt tên cho dòng và cột\n",
    "    df.index = [\"Accuracy\"]\n",
    "    df.columns.name = \"max_depth\"\n",
    "    \n",
    "    # Hiển thị\n",
    "    display(df)\n",
    "\n",
    "def accuracy_chart(max_depth_options, accuracy_scores):\n",
    "    # Map max_depth_options: None => -1 (chỉ để vẽ), giữ lại label\n",
    "    plot_x = [-1 if v is None else v for v in max_depth_options]\n",
    "    \n",
    "    plt.figure(figsize=(8, 6))\n",
    "    plt.plot(plot_x, accuracy_scores, marker='o', linestyle='-', color='b')\n",
    "    \n",
    "    # Thêm tiêu đề và nhãn\n",
    "    plt.title('Accuracy vs Max Depth', fontsize=14)\n",
    "    plt.xlabel('Max Depth', fontsize=12)\n",
    "    plt.ylabel('Accuracy', fontsize=12)\n",
    "    \n",
    "    # Gán nhãn trục x theo max_depth_options gốc\n",
    "    plt.xticks(plot_x, labels=[str(v) if v is not None else \"None\" for v in max_depth_options])\n",
    "    \n",
    "    plt.grid(True)\n",
    "    plt.show()"
   ]
  },
  {
   "cell_type": "markdown",
   "id": "272cd1a5-3fce-413a-bee7-330069b57453",
   "metadata": {},
   "source": [
    "# Output"
   ]
  },
  {
   "cell_type": "code",
   "execution_count": 119,
   "id": "47ca62e0-f005-4c48-8d92-849ce6ae83a5",
   "metadata": {},
   "outputs": [],
   "source": [
    "# Các label và tên class tương ứng\n",
    "class_labels = [0, 1]\n",
    "target_names = [\"No Diseases\", \"Diseases\"]"
   ]
  },
  {
   "cell_type": "code",
   "execution_count": 120,
   "id": "725f47cf-2bfd-4bff-a574-06a393652aae",
   "metadata": {},
   "outputs": [
    {
     "data": {
      "text/html": [
       "<div>\n",
       "<style scoped>\n",
       "    .dataframe tbody tr th:only-of-type {\n",
       "        vertical-align: middle;\n",
       "    }\n",
       "\n",
       "    .dataframe tbody tr th {\n",
       "        vertical-align: top;\n",
       "    }\n",
       "\n",
       "    .dataframe thead th {\n",
       "        text-align: right;\n",
       "    }\n",
       "</style>\n",
       "<table border=\"1\" class=\"dataframe\">\n",
       "  <thead>\n",
       "    <tr style=\"text-align: right;\">\n",
       "      <th>max_depth</th>\n",
       "      <th>None</th>\n",
       "      <th>2</th>\n",
       "      <th>3</th>\n",
       "      <th>4</th>\n",
       "      <th>5</th>\n",
       "      <th>6</th>\n",
       "      <th>7</th>\n",
       "    </tr>\n",
       "  </thead>\n",
       "  <tbody>\n",
       "    <tr>\n",
       "      <th>Accuracy</th>\n",
       "      <td>0.8197</td>\n",
       "      <td>0.7705</td>\n",
       "      <td>0.8361</td>\n",
       "      <td>0.7869</td>\n",
       "      <td>0.7869</td>\n",
       "      <td>0.8033</td>\n",
       "      <td>0.7869</td>\n",
       "    </tr>\n",
       "  </tbody>\n",
       "</table>\n",
       "</div>"
      ],
      "text/plain": [
       "max_depth    None       2       3       4       5       6       7\n",
       "Accuracy   0.8197  0.7705  0.8361  0.7869  0.7869  0.8033  0.7869"
      ]
     },
     "metadata": {},
     "output_type": "display_data"
    },
    {
     "data": {
      "image/png": "[encoded data removed]",
      "text/plain": [
       "<Figure size 800x600 with 1 Axes>"
      ]
     },
     "metadata": {},
     "output_type": "display_data"
    }
   ],
   "source": [
    "if is_max_depth_experiment:\n",
    "    max_depth_options = [None, 2, 3, 4, 5, 6, 7]\n",
    "    clf_containers = []\n",
    "    accuracy_scores = []\n",
    "    \n",
    "    for max_depth in max_depth_options:\n",
    "        clf = train_decision_tree(max_depth)\n",
    "        clf_containers.append(clf)\n",
    "        accuracy_scores.append(accuracy_score(y_test, y_predicts(clf, X_test)))\n",
    "    accuracy_statistics(max_depth_options, accuracy_scores)\n",
    "    accuracy_chart(max_depth_options, accuracy_scores)   \n",
    "else:\n",
    "    max_depth = None\n",
    "    \n",
    "    clf = train_decision_tree(max_depth)\n",
    "    y_pred = y_predicts(clf, X_test)\n",
    "    \n",
    "    print_classification_report(y_test, y_pred, target_names)\n",
    "    display(Markdown(\"---\"))\n",
    "    \n",
    "    draw_confusion_matrix(y_test, y_pred, target_names, class_labels)   \n",
    "    display(Markdown(\"---\"))\n",
    "\n",
    "    display(Markdown(f\"## 🌲 Decision Tree:\"))\n",
    "    draw_decision_tree(clf)"
   ]
  },
  {
   "cell_type": "code",
   "execution_count": null,
   "id": "482c26c1-e6ae-4fe8-97eb-9476a40fe55b",
   "metadata": {},
   "outputs": [],
   "source": []
  },
  {
   "cell_type": "code",
   "execution_count": null,
   "id": "1ab33f31-8070-43a2-9413-574e9bb3900b",
   "metadata": {},
   "outputs": [],
   "source": []
  }
 ],
 "metadata": {
  "kernelspec": {
   "display_name": "Python 3 (ipykernel)",
   "language": "python",
   "name": "python3"
  },
  "language_info": {
   "codemirror_mode": {
    "name": "ipython",
    "version": 3
   },
   "file_extension": ".py",
   "mimetype": "text/x-python",
   "name": "python",
   "nbconvert_exporter": "python",
   "pygments_lexer": "ipython3",
   "version": "3.13.2"
  }
 },
 "nbformat": 4,
 "nbformat_minor": 5
}
