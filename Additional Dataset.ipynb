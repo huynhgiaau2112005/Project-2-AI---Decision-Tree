{
 "cells": [
  {
   "cell_type": "markdown",
   "id": "4f0c33e4-780e-47d9-9d3a-8cc68da7c45d",
   "metadata": {},
   "source": [
    "# IMPORT"
   ]
  },
  {
   "cell_type": "code",
   "execution_count": 15,
   "id": "db987ac9-2812-480f-b98e-d44cee1ec249",
   "metadata": {},
   "outputs": [],
   "source": [
    "import pandas as pd\n",
    "from sklearn.model_selection import train_test_split\n",
    "from sklearn.tree import DecisionTreeClassifier, export_graphviz\n",
    "from sklearn.metrics import classification_report, confusion_matrix\n",
    "import graphviz"
   ]
  },
  {
   "cell_type": "markdown",
   "id": "73d7c6fd-9807-4cc9-9dca-66edecc7e3ec",
   "metadata": {},
   "source": [
    "# Tải dataset Forest Type Mapping từ UCI"
   ]
  },
  {
   "cell_type": "code",
   "execution_count": 16,
   "id": "d64be9ab-31ef-43f7-b802-66877a36c82f",
   "metadata": {},
   "outputs": [],
   "source": [
    "df = pd.read_csv('Forest_Type_Mapping.csv')"
   ]
  },
  {
   "cell_type": "markdown",
   "id": "20dac4db-3732-4f4f-a21d-eb688f5881ca",
   "metadata": {},
   "source": [
    "# Tách dữ liệu và nhãn"
   ]
  },
  {
   "cell_type": "code",
   "execution_count": 17,
   "id": "e1b4c281-b1fd-410f-9659-df26b51e9f65",
   "metadata": {},
   "outputs": [],
   "source": [
    "X = df.drop(columns=['class'])\n",
    "y = df['class']"
   ]
  },
  {
   "cell_type": "markdown",
   "id": "d9533b6a-7ca4-4a2f-88c0-15ed46df0076",
   "metadata": {},
   "source": [
    "# Chọn chia dữ liệu train/test (ví dụ 80% train, 20% test) với stratify và shuffle"
   ]
  },
  {
   "cell_type": "code",
   "execution_count": 18,
   "id": "02b31758-0b6b-4ff3-8f9e-cedb0c35ecf9",
   "metadata": {},
   "outputs": [
    {
     "name": "stdout",
     "output_type": "stream",
     "text": [
      "#1 train/test = 90/10\n",
      "#2 train/test = 80/20\n",
      "#3 train/test = 80/20 (with max_depth experiment)\n",
      "#4 train/test = 60/40\n",
      "#5 train/test = 40/60\n"
     ]
    },
    {
     "name": "stdin",
     "output_type": "stream",
     "text": [
      "Pick a proportion (1-5): # 3\n"
     ]
    },
    {
     "name": "stdout",
     "output_type": "stream",
     "text": [
      "-> train/test = 80/20 (with max_depth experiment)\n"
     ]
    }
   ],
   "source": [
    "test_size_options = [0.1, 0.2, 0.2, 0.4, 0.6]\n",
    "test_size = 0\n",
    "is_max_depth_experiment = False\n",
    "\n",
    "print(\"#1 train/test = 90/10\")\n",
    "print(\"#2 train/test = 80/20\")\n",
    "print(\"#3 train/test = 80/20 (with max_depth experiment)\")\n",
    "print(\"#4 train/test = 60/40\")\n",
    "print(\"#5 train/test = 40/60\")\n",
    "\n",
    "pick = int(input(\"Pick a proportion (1-5): #\"))\n",
    "test_size = test_size_options[pick - 1]\n",
    "\n",
    "max_depth_text, is_max_depth_experiment = (\"(with max_depth experiment)\", True) if pick == 3 else (\"\", False)\n",
    "\n",
    "print(f\"-> train/test = {100 - int(test_size*100)}/{int(test_size*100)} {max_depth_text}\")\n",
    "\n",
    "X_train, X_test, y_train, y_test = train_test_split(\n",
    "    X, y, test_size=0.2, shuffle=True, stratify=y, random_state=42\n",
    ")"
   ]
  },
  {
   "cell_type": "markdown",
   "id": "1e1f6e56-b28a-4b12-9f49-507d6587d850",
   "metadata": {},
   "source": [
    "# Huấn luyện Decision Tree (dùng information gain → criterion=\"entropy\")"
   ]
  },
  {
   "cell_type": "code",
   "execution_count": 19,
   "id": "095d6fae-0958-4e43-bb68-66f89e77094e",
   "metadata": {},
   "outputs": [],
   "source": [
    "def train_decision_tree(max_depth):\n",
    "    clf = DecisionTreeClassifier(criterion=\"entropy\", max_depth=max_depth, random_state=42)\n",
    "    clf.fit(X_train, y_train)\n",
    "    return clf"
   ]
  },
  {
   "cell_type": "markdown",
   "id": "b5d2440f-b521-4995-a96d-f271b37f3d42",
   "metadata": {},
   "source": [
    "# Dự đoán trên tập test"
   ]
  },
  {
   "cell_type": "code",
   "execution_count": 20,
   "id": "0bd7228b-e221-4e2c-88e2-0b4a9623ee87",
   "metadata": {},
   "outputs": [],
   "source": [
    "def y_predicts(clf, X_test):\n",
    "    return clf.predict(X_test)"
   ]
  },
  {
   "cell_type": "markdown",
   "id": "fd7ae300-939d-4162-9968-bf0830d8aae4",
   "metadata": {},
   "source": [
    "# Các hàm báo cáo đánh giá mô hình"
   ]
  },
  {
   "cell_type": "markdown",
   "id": "aed12b04-1114-4d2b-8e49-9db60046ddfa",
   "metadata": {},
   "source": [
    "## Hàm xuất classification report và confusion matrix"
   ]
  },
  {
   "cell_type": "code",
   "execution_count": 21,
   "id": "9aee189e-4650-4e61-b94c-9f7385ea4e44",
   "metadata": {},
   "outputs": [],
   "source": [
    "import matplotlib.pyplot as plt\n",
    "from sklearn.metrics import classification_report, confusion_matrix, ConfusionMatrixDisplay\n",
    "import numpy as np\n",
    "\n",
    "# Classification report -----------------------------------------------------------------------------------------\n",
    "def print_classification_report(y_test, y_pred, target_names):\n",
    "    print(\"Classification Report:\")\n",
    "    report = classification_report(y_test, y_pred, target_names=target_names)\n",
    "    print(report)\n",
    "\n",
    "# Confusion matrix ----------------------------------------------------------------------------------------------\n",
    "def draw_confusion_matrix(y_test, y_pred, target_names, class_labels):\n",
    "    # Lấy tất cả các lớp có trong y_test và y_pred\n",
    "    all_labels = np.union1d(y_test, y_pred)  # Tìm tất cả lớp có trong y_test và y_pred\n",
    "    \n",
    "    # Cập nhật class_labels và target_names để bao gồm tất cả các lớp\n",
    "    available_labels = [label for label in all_labels if label in class_labels]\n",
    "    \n",
    "    # Tạo confusion matrix với tất cả các lớp\n",
    "    cm = confusion_matrix(y_test, y_pred, labels=all_labels)\n",
    "    disp = ConfusionMatrixDisplay(confusion_matrix=cm, display_labels=target_names)\n",
    "    \n",
    "    fig, ax = plt.subplots(figsize=(6, 6))\n",
    "    disp.plot(ax=ax, cmap=\"Blues\", values_format='d')\n",
    "\n",
    "    # 👉 Thay đổi nhãn trục x và y để xuống dòng\n",
    "    ax.set_xticklabels([str(label).replace(\" \", \"\\n\") for label in target_names], rotation=0)\n",
    "    ax.set_yticklabels([str(label).replace(\" \", \"\\n\") for label in target_names], rotation=0)\n",
    "\n",
    "    # Cải thiện hiển thị\n",
    "    ax.set_ylabel(\"True label\", labelpad=15)\n",
    "    ax.set_xlabel(\"Predicted label\", labelpad=15)\n",
    "    plt.title(\"Confusion Matrix\")\n",
    "    plt.grid(False)\n",
    "    plt.tight_layout()  # Đảm bảo các nhãn không bị cắt\n",
    "    plt.show()"
   ]
  },
  {
   "cell_type": "markdown",
   "id": "4c24e0f4-f612-4773-887d-8f90e1869e0b",
   "metadata": {},
   "source": [
    "## Hàm vẽ cây"
   ]
  },
  {
   "cell_type": "code",
   "execution_count": 22,
   "id": "b7e3d654-fad1-4624-a3aa-f950e494a492",
   "metadata": {},
   "outputs": [],
   "source": [
    "from sklearn.tree import export_graphviz\n",
    "import pydotplus\n",
    "from IPython.display import Image\n",
    "\n",
    "# Xuất cây quyết định thành dữ liệu .dot\n",
    "def draw_decision_tree(clf):\n",
    "    dot_data = export_graphviz(\n",
    "        clf,\n",
    "        out_file=None,\n",
    "        feature_names=X.columns,\n",
    "        class_names=[str(c) for c in clf.classes_],\n",
    "        filled=True,\n",
    "        rounded=True,\n",
    "        special_characters=True,\n",
    "        # Chỉ định font cho cây quyết định\n",
    "        fontname=\"Arial\"\n",
    "    )\n",
    "    # Cố gắng chỉ định font hợp lệ trong Matplotlib\n",
    "    plt.rcParams[\"font.family\"] = \"Arial\"  # Hoặc thử \"Times New Roman\" hoặc font nào đó có sẵn trên hệ thống của bạn\n",
    "\n",
    "    # Tạo đồ thị từ dữ liệu .dot\n",
    "    graph = pydotplus.graph_from_dot_data(dot_data)\n",
    "    \n",
    "    # Hiển thị cây dưới dạng hình PNG\n",
    "    display(Image(graph.create_png()))"
   ]
  },
  {
   "cell_type": "markdown",
   "id": "d98af361-51a3-417b-9221-0a45f34406b1",
   "metadata": {},
   "source": [
    "## Các hàm đánh giá thí nghiệm Max Depth"
   ]
  },
  {
   "cell_type": "code",
   "execution_count": 23,
   "id": "20853fac-530e-47ac-891c-6115f3ba2140",
   "metadata": {},
   "outputs": [],
   "source": [
    "from IPython.display import display, Markdown\n",
    "from sklearn.metrics import accuracy_score\n",
    "import pandas as pd\n",
    "import matplotlib.pyplot as plt\n",
    "\n",
    "def accuracy_statistics(max_depth_options, accuracy_scores):\n",
    "    col_names = [\"None\" if x is None else x for x in max_depth_options]\n",
    "    \n",
    "    # Tạo DataFrame\n",
    "    df = pd.DataFrame([accuracy_scores], columns=col_names).round(4)\n",
    "    \n",
    "    # Đặt tên cho dòng và cột\n",
    "    df.index = [\"Accuracy\"]\n",
    "    df.columns.name = \"max_depth\"\n",
    "    \n",
    "    # Hiển thị\n",
    "    display(df)\n",
    "\n",
    "def accuracy_chart(max_depth_options, accuracy_scores):\n",
    "    # Map max_depth_options: None => -1 (chỉ để vẽ), giữ lại label\n",
    "    plot_x = [-1 if v is None else v for v in max_depth_options]\n",
    "    \n",
    "    plt.figure(figsize=(8, 6))\n",
    "    plt.plot(plot_x, accuracy_scores, marker='o', linestyle='-', color='b')\n",
    "    \n",
    "    # Thêm tiêu đề và nhãn\n",
    "    plt.title('Accuracy vs Max Depth', fontsize=14)\n",
    "    plt.xlabel('Max Depth', fontsize=12)\n",
    "    plt.ylabel('Accuracy', fontsize=12)\n",
    "    \n",
    "    # Gán nhãn trục x theo max_depth_options gốc\n",
    "    plt.xticks(plot_x, labels=[str(v) if v is not None else \"None\" for v in max_depth_options])\n",
    "    \n",
    "    plt.grid(True)\n",
    "    plt.show()"
   ]
  },
  {
   "cell_type": "markdown",
   "id": "c2ff3e39-b166-4b47-80ce-bfe8b28a8302",
   "metadata": {},
   "source": [
    "# Output"
   ]
  },
  {
   "cell_type": "code",
   "execution_count": 24,
   "id": "729139ed-7f18-464f-89c3-093228d1b09d",
   "metadata": {},
   "outputs": [],
   "source": [
    "# Các label và tên class tương ứng\n",
    "class_labels = [\"s\", \"h\", \"d\", \"o\"]\n",
    "target_names = [\"Sugi Forest\", \"Hinoki Forest\", \"Mixed deciduous Forest\", \"Other non-forest land\"]"
   ]
  },
  {
   "cell_type": "code",
   "execution_count": 25,
   "id": "2b5ad10d-bff5-4852-a7da-606e3f33dc08",
   "metadata": {},
   "outputs": [
    {
     "data": {
      "text/html": [
       "<div>\n",
       "<style scoped>\n",
       "    .dataframe tbody tr th:only-of-type {\n",
       "        vertical-align: middle;\n",
       "    }\n",
       "\n",
       "    .dataframe tbody tr th {\n",
       "        vertical-align: top;\n",
       "    }\n",
       "\n",
       "    .dataframe thead th {\n",
       "        text-align: right;\n",
       "    }\n",
       "</style>\n",
       "<table border=\"1\" class=\"dataframe\">\n",
       "  <thead>\n",
       "    <tr style=\"text-align: right;\">\n",
       "      <th>max_depth</th>\n",
       "      <th>None</th>\n",
       "      <th>2</th>\n",
       "      <th>3</th>\n",
       "      <th>4</th>\n",
       "      <th>5</th>\n",
       "      <th>6</th>\n",
       "      <th>7</th>\n",
       "    </tr>\n",
       "  </thead>\n",
       "  <tbody>\n",
       "    <tr>\n",
       "      <th>Accuracy</th>\n",
       "      <td>0.8615</td>\n",
       "      <td>0.8923</td>\n",
       "      <td>0.8923</td>\n",
       "      <td>0.8308</td>\n",
       "      <td>0.8</td>\n",
       "      <td>0.8308</td>\n",
       "      <td>0.8462</td>\n",
       "    </tr>\n",
       "  </tbody>\n",
       "</table>\n",
       "</div>"
      ],
      "text/plain": [
       "max_depth    None       2       3       4    5       6       7\n",
       "Accuracy   0.8615  0.8923  0.8923  0.8308  0.8  0.8308  0.8462"
      ]
     },
     "metadata": {},
     "output_type": "display_data"
    },
    {
     "data": {
      "image/png": "[encoded data removed]",
      "text/plain": [
       "<Figure size 800x600 with 1 Axes>"
      ]
     },
     "metadata": {},
     "output_type": "display_data"
    }
   ],
   "source": [
    "if is_max_depth_experiment:\n",
    "    max_depth_options = [None, 2, 3, 4, 5, 6, 7]\n",
    "    clf_containers = []\n",
    "    accuracy_scores = []\n",
    "\n",
    "    \n",
    "    for max_depth in max_depth_options:\n",
    "        clf = train_decision_tree(max_depth)\n",
    "        clf_containers.append(clf)\n",
    "        accuracy_scores.append(accuracy_score(y_test, y_predicts(clf, X_test)))\n",
    "    accuracy_statistics(max_depth_options, accuracy_scores)\n",
    "    accuracy_chart(max_depth_options, accuracy_scores)   \n",
    "else:\n",
    "    max_depth = None\n",
    "    clf = train_decision_tree(max_depth)\n",
    "    y_pred = y_predicts(clf, X_test)\n",
    "    \n",
    "    print_classification_report(y_test, y_pred, target_names)\n",
    "    display(Markdown(\"---\"))\n",
    "    \n",
    "    draw_confusion_matrix(y_test, y_pred, target_names, class_labels)   \n",
    "    display(Markdown(\"---\"))\n",
    "\n",
    "    display(Markdown(f\"## 🌲 Decision Tree:\"))\n",
    "    draw_decision_tree(clf)"
   ]
  },
  {
   "cell_type": "code",
   "execution_count": null,
   "id": "0cfc208c-82d3-464a-b290-0e1d6c78f90f",
   "metadata": {},
   "outputs": [],
   "source": []
  }
 ],
 "metadata": {
  "kernelspec": {
   "display_name": "Python 3 (ipykernel)",
   "language": "python",
   "name": "python3"
  },
  "language_info": {
   "codemirror_mode": {
    "name": "ipython",
    "version": 3
   },
   "file_extension": ".py",
   "mimetype": "text/x-python",
   "name": "python",
   "nbconvert_exporter": "python",
   "pygments_lexer": "ipython3",
   "version": "3.13.0"
  }
 },
 "nbformat": 4,
 "nbformat_minor": 5
}
